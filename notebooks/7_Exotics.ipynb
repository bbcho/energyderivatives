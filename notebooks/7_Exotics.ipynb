{
 "cells": [
  {
   "cell_type": "code",
   "execution_count": 1,
   "id": "fecb714e-701d-477e-ba8b-215d4ffe76a5",
   "metadata": {},
   "outputs": [],
   "source": [
    "%load_ext autoreload\n",
    "%autoreload 2\n",
    "import finoptions as fo\n",
    "import numpy as np"
   ]
  },
  {
   "cell_type": "code",
   "execution_count": 2,
   "id": "d173bb8b-9443-42b0-b7cf-6bd90f756894",
   "metadata": {},
   "outputs": [],
   "source": [
    "es = fo.exotic_options.EnergySwaption(\n",
    "    F=33,\n",
    "    K=35,\n",
    "    sigma=0.18,\n",
    "    T=0.5,\n",
    "    j=365,\n",
    "    n=92,\n",
    "    rb=0.05,\n",
    "    Tb=0.5466,\n",
    "    rj=0.05,\n",
    ")"
   ]
  },
  {
   "cell_type": "code",
   "execution_count": 3,
   "id": "2779ce69-9525-4b54-afba-f9df6014bf0f",
   "metadata": {},
   "outputs": [
    {
     "data": {
      "text/plain": [
       "EnergySwaption(33, 35, 0.18, 0.5, 365, 92, 0.05, 0.5466, 0.05)"
      ]
     },
     "execution_count": 3,
     "metadata": {},
     "output_type": "execute_result"
    }
   ],
   "source": [
    "es"
   ]
  },
  {
   "cell_type": "code",
   "execution_count": 4,
   "id": "3b830f9d-4bc8-473b-bd3c-52166c61e268",
   "metadata": {},
   "outputs": [
    {
     "data": {
      "text/plain": [
       "0.8760711453402522"
      ]
     },
     "execution_count": 4,
     "metadata": {},
     "output_type": "execute_result"
    }
   ],
   "source": [
    "es.call()"
   ]
  },
  {
   "cell_type": "code",
   "execution_count": 5,
   "id": "3ac6173c-7f7e-4ada-9804-93caae6e4580",
   "metadata": {},
   "outputs": [
    {
     "data": {
      "text/plain": [
       "-2.1224432730774407"
      ]
     },
     "execution_count": 5,
     "metadata": {},
     "output_type": "execute_result"
    }
   ],
   "source": [
    "es.put()"
   ]
  }
 ],
 "metadata": {
  "kernelspec": {
   "display_name": "Python 3 (ipykernel)",
   "language": "python",
   "name": "python3"
  },
  "language_info": {
   "codemirror_mode": {
    "name": "ipython",
    "version": 3
   },
   "file_extension": ".py",
   "mimetype": "text/x-python",
   "name": "python",
   "nbconvert_exporter": "python",
   "pygments_lexer": "ipython3",
   "version": "3.10.12"
  }
 },
 "nbformat": 4,
 "nbformat_minor": 5
}
