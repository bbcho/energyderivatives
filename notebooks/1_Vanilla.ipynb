{
 "cells": [
  {
   "cell_type": "markdown",
   "metadata": {},
   "source": [
    "# Vanilla Options"
   ]
  },
  {
   "cell_type": "code",
   "execution_count": 4,
   "metadata": {},
   "outputs": [
    {
     "name": "stdout",
     "output_type": "stream",
     "text": [
      "The autoreload extension is already loaded. To reload it, use:\n",
      "  %reload_ext autoreload\n"
     ]
    }
   ],
   "source": [
    "%load_ext autoreload\n",
    "%autoreload 2\n",
    "import finoptions as fo\n",
    "import numpy as np"
   ]
  },
  {
   "cell_type": "code",
   "execution_count": 5,
   "metadata": {},
   "outputs": [],
   "source": [
    "opt = fo.GBSOption(10.0, 8.0, 1.0, 0.02, 0.01, 0.1)"
   ]
  },
  {
   "cell_type": "code",
   "execution_count": 6,
   "metadata": {},
   "outputs": [
    {
     "data": {
      "text/plain": [
       "2.0618470607330366"
      ]
     },
     "execution_count": 6,
     "metadata": {},
     "output_type": "execute_result"
    }
   ],
   "source": [
    "opt.call()"
   ]
  },
  {
   "cell_type": "code",
   "execution_count": 7,
   "metadata": {},
   "outputs": [
    {
     "data": {
      "text/plain": [
       "0.0029381096953960684"
      ]
     },
     "execution_count": 7,
     "metadata": {},
     "output_type": "execute_result"
    }
   ],
   "source": [
    "opt.put()"
   ]
  },
  {
   "cell_type": "code",
   "execution_count": 8,
   "metadata": {},
   "outputs": [
    {
     "data": {
      "text/plain": [
       "GBSOption(10.0, 8.0, 1.0, 0.02, 0.01, 0.1)"
      ]
     },
     "execution_count": 8,
     "metadata": {},
     "output_type": "execute_result"
    }
   ],
   "source": [
    "opt"
   ]
  },
  {
   "cell_type": "code",
   "execution_count": 9,
   "metadata": {},
   "outputs": [
    {
     "name": "stdout",
     "output_type": "stream",
     "text": [
      "\u001b[0;31mSignature:\u001b[0m \u001b[0mopt\u001b[0m\u001b[0;34m.\u001b[0m\u001b[0msummary\u001b[0m\u001b[0;34m(\u001b[0m\u001b[0mprinter\u001b[0m\u001b[0;34m=\u001b[0m\u001b[0;32mTrue\u001b[0m\u001b[0;34m)\u001b[0m\u001b[0;34m\u001b[0m\u001b[0;34m\u001b[0m\u001b[0m\n",
      "\u001b[0;31mDocstring:\u001b[0m\n",
      "Print summary report of option\n",
      "\n",
      "Parameters\n",
      "----------\n",
      "printer : bool\n",
      "    True to print summary. False to return a string.\n",
      "\u001b[0;31mFile:\u001b[0m      ~/PROJECTS/finoptions-dev/src/finoptions/base.py\n",
      "\u001b[0;31mType:\u001b[0m      method\n"
     ]
    }
   ],
   "source": [
    "?opt.summary"
   ]
  },
  {
   "cell_type": "code",
   "execution_count": 10,
   "metadata": {},
   "outputs": [
    {
     "name": "stdout",
     "output_type": "stream",
     "text": [
      "Title: Black Scholes Option Valuation\n",
      "\n",
      "Parameters:\n",
      "\n",
      "  S = 10.0\n",
      "  K = 8.0\n",
      "  t = 1.0\n",
      "  r = 0.02\n",
      "  b = 0.01\n",
      "  sigma = 0.1\n",
      "\n",
      "Option Price:\n",
      "\n",
      "  call: 2.061847\n",
      "  put: 0.002938\n"
     ]
    }
   ],
   "source": [
    "opt.summary()"
   ]
  },
  {
   "cell_type": "code",
   "execution_count": 11,
   "metadata": {},
   "outputs": [
    {
     "name": "stdout",
     "output_type": "stream",
     "text": [
      "Title: Black Scholes Option Valuation\n",
      "\n",
      "Parameters:\n",
      "\n",
      "  S = 10.0\n",
      "  K = 8.0\n",
      "  t = 1.0\n",
      "  r = 0.02\n",
      "  b = 0.01\n",
      "  sigma = 0.1\n",
      "\n",
      "Option Price:\n",
      "\n",
      "  call: 2.061847\n",
      "  put: 0.002938\n"
     ]
    }
   ],
   "source": [
    "print(opt)"
   ]
  },
  {
   "cell_type": "code",
   "execution_count": 12,
   "metadata": {},
   "outputs": [
    {
     "data": {
      "text/plain": [
       "GBSOption(10.0, 8.0, 1.0, 0.02, 0.01, 0.1)"
      ]
     },
     "execution_count": 12,
     "metadata": {},
     "output_type": "execute_result"
    }
   ],
   "source": [
    "opt"
   ]
  },
  {
   "cell_type": "code",
   "execution_count": 13,
   "metadata": {},
   "outputs": [
    {
     "data": {
      "text/plain": [
       "0.9815129867062496"
      ]
     },
     "execution_count": 13,
     "metadata": {},
     "output_type": "execute_result"
    }
   ],
   "source": [
    "opt.delta()"
   ]
  },
  {
   "cell_type": "code",
   "execution_count": 14,
   "metadata": {},
   "outputs": [
    {
     "data": {
      "text/plain": [
       "{'delta': 0.9815129867062496,\n",
       " 'theta': -0.06850330694238246,\n",
       " 'vega': 0.23177898972836455,\n",
       " 'rho': 7.7532828063294605,\n",
       " 'lambda': 4.760357862611294,\n",
       " 'gamma': 0.023177898972836456,\n",
       " 'CofC': 9.815129867062497}"
      ]
     },
     "execution_count": 14,
     "metadata": {},
     "output_type": "execute_result"
    }
   ],
   "source": [
    "opt.greeks()"
   ]
  },
  {
   "cell_type": "code",
   "execution_count": 15,
   "metadata": {},
   "outputs": [
    {
     "data": {
      "text/plain": [
       "{'delta': -0.008536847042918466,\n",
       " 'theta': -0.010676502588218456,\n",
       " 'vega': 0.23177898972836455,\n",
       " 'rho': -0.08830658012458127,\n",
       " 'lambda': -29.055576298922585,\n",
       " 'gamma': 0.023177898972836456,\n",
       " 'CofC': -0.0853684704291852}"
      ]
     },
     "execution_count": 15,
     "metadata": {},
     "output_type": "execute_result"
    }
   ],
   "source": [
    "opt.greeks(call=False)"
   ]
  },
  {
   "cell_type": "code",
   "execution_count": 16,
   "metadata": {},
   "outputs": [
    {
     "data": {
      "text/plain": [
       "{'S': 10.0, 'K': 8.0, 't': 1.0, 'r': 0.02, 'b': 0.01, 'sigma': 0.1}"
      ]
     },
     "execution_count": 16,
     "metadata": {},
     "output_type": "execute_result"
    }
   ],
   "source": [
    "opt.get_params()"
   ]
  },
  {
   "cell_type": "code",
   "execution_count": 17,
   "metadata": {},
   "outputs": [
    {
     "name": "stdout",
     "output_type": "stream",
     "text": [
      "0.5363510394818946\n"
     ]
    }
   ],
   "source": [
    "vol = fo.GBSOption(10.0, 8.0, 1.0, 0.02, 0.0, sigma=None)\n",
    "print(vol.volatility(3))"
   ]
  },
  {
   "cell_type": "code",
   "execution_count": 19,
   "metadata": {},
   "outputs": [
    {
     "data": {
      "text/plain": [
       "3.0000000000000044"
      ]
     },
     "execution_count": 19,
     "metadata": {},
     "output_type": "execute_result"
    }
   ],
   "source": [
    "fo.GBSOption(10.0, 8.0, 1.0, 0.02, 0.0, 0.5363510394818954).call()"
   ]
  },
  {
   "cell_type": "markdown",
   "metadata": {},
   "source": [
    "### Black 1977 Option"
   ]
  },
  {
   "cell_type": "code",
   "execution_count": 20,
   "metadata": {},
   "outputs": [],
   "source": [
    "bopt = fo.Black76Option(10.0, 8.0, 1.0, 0.02, 0.1)"
   ]
  },
  {
   "cell_type": "code",
   "execution_count": 21,
   "metadata": {},
   "outputs": [
    {
     "data": {
      "text/plain": [
       "Black76Option(10.0, 8.0, 1.0, 0.02, 0, 0.1)"
      ]
     },
     "execution_count": 21,
     "metadata": {},
     "output_type": "execute_result"
    }
   ],
   "source": [
    "bopt"
   ]
  },
  {
   "cell_type": "code",
   "execution_count": 22,
   "metadata": {},
   "outputs": [
    {
     "name": "stdout",
     "output_type": "stream",
     "text": [
      "Title: Black 1977 Option Valuation\n",
      "\n",
      "Parameters:\n",
      "\n",
      "  FT = 10.0\n",
      "  K = 8.0\n",
      "  t = 1.0\n",
      "  r = 0.02\n",
      "  b = 0\n",
      "  sigma = 0.1\n",
      "\n",
      "Option Price:\n",
      "\n",
      "  call: 1.96431\n",
      "  put: 0.003912\n"
     ]
    }
   ],
   "source": [
    "print(bopt)"
   ]
  },
  {
   "cell_type": "code",
   "execution_count": 23,
   "metadata": {},
   "outputs": [
    {
     "data": {
      "text/plain": [
       "{'FT': 10.0, 'K': 8.0, 't': 1.0, 'r': 0.02, 'b': 0, 'sigma': 0.1}"
      ]
     },
     "execution_count": 23,
     "metadata": {},
     "output_type": "execute_result"
    }
   ],
   "source": [
    "bopt.get_params()"
   ]
  },
  {
   "cell_type": "code",
   "execution_count": 24,
   "metadata": {},
   "outputs": [
    {
     "name": "stderr",
     "output_type": "stream",
     "text": [
      "/home/bcho/PROJECTS/finoptions-dev/src/finoptions/base.py:547: UserWarning: sigma is not None but calculating implied volatility.\n",
      "  _warnings.warn(\"sigma is not None but calculating implied volatility.\")\n"
     ]
    },
    {
     "data": {
      "text/plain": [
       "1.1917617259924722"
      ]
     },
     "execution_count": 24,
     "metadata": {},
     "output_type": "execute_result"
    }
   ],
   "source": [
    "bopt.volatility(5)"
   ]
  },
  {
   "cell_type": "code",
   "execution_count": 25,
   "metadata": {},
   "outputs": [
    {
     "data": {
      "text/plain": [
       "{'FT': 10.0, 'K': 8.0, 't': 1.0, 'r': 0.02, 'b': 0, 'sigma': 0.1}"
      ]
     },
     "execution_count": 25,
     "metadata": {},
     "output_type": "execute_result"
    }
   ],
   "source": [
    "bopt.get_params()"
   ]
  },
  {
   "cell_type": "code",
   "execution_count": 26,
   "metadata": {},
   "outputs": [],
   "source": [
    "mopt = fo.MiltersenSchwartzOption(\n",
    "        Pt=np.exp(-0.05 / 4),\n",
    "        FT=95,\n",
    "        K=80,\n",
    "        t=1 / 4,\n",
    "        T=1 / 2,\n",
    "        sigmaS=0.2660,\n",
    "        sigmaE=0.2490,\n",
    "        sigmaF=0.0096,\n",
    "        rhoSE=0.805,\n",
    "        rhoSF=0.0805,\n",
    "        rhoEF=0.1243,\n",
    "        KappaE=1.045,\n",
    "        KappaF=0.200,\n",
    "    )"
   ]
  },
  {
   "cell_type": "code",
   "execution_count": 27,
   "metadata": {},
   "outputs": [
    {
     "data": {
      "text/plain": [
       "15.004682511978606"
      ]
     },
     "execution_count": 27,
     "metadata": {},
     "output_type": "execute_result"
    }
   ],
   "source": [
    "mopt.call()"
   ]
  },
  {
   "cell_type": "code",
   "execution_count": 28,
   "metadata": {},
   "outputs": [
    {
     "data": {
      "text/plain": [
       "{'Pt': 0.9875778004938814,\n",
       " 'FT': 95,\n",
       " 'K': 80,\n",
       " 't': 0.25,\n",
       " 'T': 0.5,\n",
       " 'sigmaS': 0.266,\n",
       " 'sigmaE': 0.249,\n",
       " 'sigmaF': 0.0096,\n",
       " 'rhoSE': 0.805,\n",
       " 'rhoSF': 0.0805,\n",
       " 'rhoEF': 0.1243,\n",
       " 'KappaE': 1.045,\n",
       " 'KappaF': 0.2}"
      ]
     },
     "execution_count": 28,
     "metadata": {},
     "output_type": "execute_result"
    }
   ],
   "source": [
    "mopt.get_params()"
   ]
  },
  {
   "cell_type": "code",
   "execution_count": 29,
   "metadata": {},
   "outputs": [
    {
     "name": "stdout",
     "output_type": "stream",
     "text": [
      "Title: Miltersen Schwartz Option Valuation\n",
      "\n",
      "Parameters:\n",
      "\n",
      "  Pt = 0.9875778004938814\n",
      "  FT = 95\n",
      "  K = 80\n",
      "  t = 0.25\n",
      "  T = 0.5\n",
      "  sigmaS = 0.266\n",
      "  sigmaE = 0.249\n",
      "  sigmaF = 0.0096\n",
      "  rhoSE = 0.805\n",
      "  rhoSF = 0.0805\n",
      "  rhoEF = 0.1243\n",
      "  KappaE = 1.045\n",
      "  KappaF = 0.2\n",
      "\n",
      "Option Price:\n",
      "\n",
      "  call: 15.004683\n",
      "  put: 0.191426\n"
     ]
    }
   ],
   "source": [
    "mopt.summary()"
   ]
  },
  {
   "cell_type": "code",
   "execution_count": 30,
   "metadata": {},
   "outputs": [
    {
     "data": {
      "text/plain": [
       "MiltersenSchwartzOption(0.9875778004938814, 95, 80, 0.25, 0.5, 0.266, 0.249, 0.0096, 0.805, 0.0805, 0.1243, 1.045, 0.2)"
      ]
     },
     "execution_count": 30,
     "metadata": {},
     "output_type": "execute_result"
    }
   ],
   "source": [
    "mopt"
   ]
  },
  {
   "cell_type": "code",
   "execution_count": 31,
   "metadata": {},
   "outputs": [
    {
     "name": "stdout",
     "output_type": "stream",
     "text": [
      "Title: Miltersen Schwartz Option Valuation\n",
      "\n",
      "Parameters:\n",
      "\n",
      "  Pt = 0.9875778004938814\n",
      "  FT = 95\n",
      "  K = 80\n",
      "  t = 0.25\n",
      "  T = 0.5\n",
      "  sigmaS = 0.266\n",
      "  sigmaE = 0.249\n",
      "  sigmaF = 0.0096\n",
      "  rhoSE = 0.805\n",
      "  rhoSF = 0.0805\n",
      "  rhoEF = 0.1243\n",
      "  KappaE = 1.045\n",
      "  KappaF = 0.2\n",
      "\n",
      "Option Price:\n",
      "\n",
      "  call: 15.004683\n",
      "  put: 0.191426\n"
     ]
    }
   ],
   "source": [
    "print(mopt)"
   ]
  },
  {
   "cell_type": "code",
   "execution_count": 35,
   "metadata": {},
   "outputs": [
    {
     "data": {
      "text/plain": [
       "0.9427019114803326"
      ]
     },
     "execution_count": 35,
     "metadata": {},
     "output_type": "execute_result"
    }
   ],
   "source": [
    "mopt.delta()"
   ]
  },
  {
   "cell_type": "code",
   "execution_count": 36,
   "metadata": {},
   "outputs": [
    {
     "data": {
      "text/plain": [
       "array([ 4.36537183, -0.89387399,  0.06553819])"
      ]
     },
     "execution_count": 36,
     "metadata": {},
     "output_type": "execute_result"
    }
   ],
   "source": [
    "mopt.vega()"
   ]
  },
  {
   "cell_type": "code",
   "execution_count": 38,
   "metadata": {},
   "outputs": [
    {
     "data": {
      "text/plain": [
       "{'delta': 0.9427019114803326,\n",
       " 'theta': -2.1486160364725966,\n",
       " 'vega': array([ 4.36537183, -0.89387399,  0.06553819]),\n",
       " 'lambda': 5.968582242185818,\n",
       " 'gamma': 0.00946707328451062}"
      ]
     },
     "execution_count": 38,
     "metadata": {},
     "output_type": "execute_result"
    }
   ],
   "source": [
    "mopt.greeks()"
   ]
  },
  {
   "cell_type": "code",
   "execution_count": null,
   "metadata": {},
   "outputs": [],
   "source": []
  }
 ],
 "metadata": {
  "interpreter": {
   "hash": "1f23843d0517fbd80931cf63cde1ba60ddd02d261472889f538e5c68e74c8896"
  },
  "kernelspec": {
   "display_name": "Python 3 (ipykernel)",
   "language": "python",
   "name": "python3"
  },
  "language_info": {
   "codemirror_mode": {
    "name": "ipython",
    "version": 3
   },
   "file_extension": ".py",
   "mimetype": "text/x-python",
   "name": "python",
   "nbconvert_exporter": "python",
   "pygments_lexer": "ipython3",
   "version": "3.10.12"
  }
 },
 "nbformat": 4,
 "nbformat_minor": 4
}
